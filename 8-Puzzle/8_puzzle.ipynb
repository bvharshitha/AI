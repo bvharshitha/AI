{
  "cells": [
    {
      "cell_type": "code",
      "execution_count": 1,
      "metadata": {
        "id": "Ga2IQ1x3mLCa"
      },
      "outputs": [],
      "source": [
        "import heapq\n",
        "import datetime\n",
        "import sys\n",
        "from collections import deque\n",
        "\n",
        "class AlgorithmRequirments:\n",
        "    def __init__(self, grid, parent=None, move=None, depth=0, cost=0):\n",
        "        self.grid = grid\n",
        "        self.parent = parent\n",
        "        self.move = move\n",
        "        self.depth = depth\n",
        "        self.cost = cost\n",
        "        self.heuristic = 0\n",
        "    def title_move_place(self):\n",
        "        for i in range(3):\n",
        "            for j in range(3):\n",
        "                if self.grid[i][j] == 0:\n",
        "                    return i, j\n",
        "\n",
        "    def title_actions(self):\n",
        "        successors = []\n",
        "        blank_row, blank_col = self.title_move_place()\n",
        "        moves = [\n",
        "            ('Up', blank_row - 1, blank_col),\n",
        "            ('Down', blank_row + 1, blank_col),\n",
        "            ('Left', blank_row, blank_col - 1),\n",
        "            ('Right', blank_row, blank_col + 1)\n",
        "        ]\n",
        "        for move, row, col in moves:\n",
        "            if 0 <= row < 3 and 0 <= col < 3:\n",
        "                new_grid = [r[:] for r in self.grid]\n",
        "                new_grid[blank_row][blank_col], new_grid[row][col] = new_grid[row][col], new_grid[blank_row][blank_col]\n",
        "                move_cost = new_grid[blank_row][blank_col]\n",
        "                successors.append(AlgorithmRequirments(new_grid, self, move, self.depth + 1, self.cost + move_cost))\n",
        "        return successors\n",
        "    def __lt__(self, other):\n",
        "        return (self.cost + self.heuristic) < (other.cost + other.heuristic)\n",
        "\n",
        "    def __eq__(self, other):\n",
        "        return self.grid == other.grid\n",
        "\n",
        "    def __repr__(self):\n",
        "        return f\"< state = {self.grid}, action = {{{self.move}}}, g(n) = {self.cost}, d = {self.depth}, f(n) = {self.cost + self.heuristic}, Parent = {self.parent.grid if self.parent else 'None'} >\"\n",
        "\n",
        "    def __hash__(self):\n",
        "        return hash(str(self.grid))\n",
        "\n",
        "    def calculate_heuristic(self, goal_state):\n",
        "        goal_list = [value for row in goal_state.grid for value in row]\n",
        "        distance = 0\n",
        "\n",
        "        for i in range(3):\n",
        "            for j in range(3):\n",
        "                value = self.grid[i][j]\n",
        "                if value != 0:\n",
        "                    goal_index = goal_list.index(value)\n",
        "                    goal_row, goal_col = divmod(goal_index, 3)\n",
        "                    distance += abs(goal_row - i) + abs(goal_col - j)\n",
        "        return distance"
      ]
    },
    {
      "cell_type": "code",
      "source": [
        "def matrix(file_path):\n",
        "    values = []\n",
        "    with open(file_path, 'r') as file:\n",
        "        for line in file:\n",
        "            if line.strip() == \"END OF FILE\":\n",
        "                break\n",
        "            values.append(list(map(int, line.split())))\n",
        "    return values"
      ],
      "metadata": {
        "id": "YrWelrhhravt"
      },
      "execution_count": 2,
      "outputs": []
    },
    {
      "cell_type": "markdown",
      "source": [
        "Breadth First Search"
      ],
      "metadata": {
        "id": "aLdAkGbBSXOy"
      }
    },
    {
      "cell_type": "code",
      "execution_count": 3,
      "metadata": {
        "id": "6TCykOBRmPeb"
      },
      "outputs": [],
      "source": [
        "\n",
        "def bfs(start_state, goal_state, trace_file):\n",
        "    visited = set()\n",
        "    fifo = deque([start_state])\n",
        "    popped = 0\n",
        "    expanded = 0\n",
        "    generated = 0\n",
        "    fringe_size = 0\n",
        "\n",
        "    with open(trace_file, 'w') as f:\n",
        "        f.write(f\"Method Selected: BFS\\nRunning BFS\\n\")\n",
        "\n",
        "        while fifo:\n",
        "            max_fringe_size = max(fringe_size, len(fifo))\n",
        "            current_state = fifo.popleft()\n",
        "            popped += 1\n",
        "            expanded += 1\n",
        "\n",
        "            if current_state.grid == goal_state.grid:\n",
        "                return current_state, popped, expanded, generated, max_fringe_size\n",
        "\n",
        "            visited.add(current_state)\n",
        "            successors = current_state.title_actions()\n",
        "            generated += len(successors)\n",
        "\n",
        "            f.write(f\"Generating successors to < state = {current_state.grid}, action = {{{current_state.move or 'Start'}}}, g(n) = {current_state.cost}, d = {current_state.depth}, Parent = Pointer to {{{current_state.parent}}} >:\\n\")\n",
        "            f.write(f\"\\t{len(successors)} successors generated\\n\")\n",
        "\n",
        "            for successor in successors:\n",
        "                if successor not in visited:\n",
        "                    fifo.append(successor)\n",
        "\n",
        "            f.write(f\"\\tClosed: {list(map(lambda x: x.grid, visited))}\\n\")\n",
        "            f.write(f\"\\tFringe: {list(map(lambda x: f'< state = {x.grid}, action = {{{x.move}}}, g(n) = {x.cost}, d = {x.depth}, Parent = Pointer to {{{x.parent}}} >', fifo))}\\n\")\n",
        "\n",
        "    return None, popped,expanded, generated, max_fringe_size\n"
      ]
    },
    {
      "cell_type": "markdown",
      "source": [
        "Uniform Cost Search"
      ],
      "metadata": {
        "id": "_ZiQ99H6SdNY"
      }
    },
    {
      "cell_type": "code",
      "execution_count": 4,
      "metadata": {
        "id": "mQDetcWPmTxx"
      },
      "outputs": [],
      "source": [
        "\n",
        "def ucs(start_state, goal_state, trace_file):\n",
        "    visited = set()\n",
        "    fifo = []\n",
        "    start_state.cost = 0\n",
        "    heapq.heappush(fifo, (start_state.cost, start_state))\n",
        "\n",
        "    popped = 0\n",
        "    expanded = 0\n",
        "    generated = 0\n",
        "    fringe_size = 0\n",
        "\n",
        "    with open(trace_file, 'w') as f:\n",
        "        f.write(f\"Method Selected: UCS\\nRunning UCS\\n\")\n",
        "\n",
        "        while fifo:\n",
        "            max_fringe_size = max(fringe_size, len(fifo))\n",
        "            _, current_state = heapq.heappop(fifo)\n",
        "            popped += 1\n",
        "            expanded += 1\n",
        "\n",
        "            if current_state.grid == goal_state.grid:\n",
        "                return current_state, popped, expanded, generated, max_fringe_size\n",
        "\n",
        "            visited.add(current_state)\n",
        "            successors = current_state.title_actions()\n",
        "            generated += len(successors)\n",
        "\n",
        "            f.write(f\"Generating successors to < state = {current_state.grid}, action = {{{current_state.move or 'Start'}}}, g(n) = {current_state.cost}, d = {current_state.depth}, Parent = Pointer to {{{current_state.parent}}} >:\\n\")\n",
        "            f.write(f\"\\t{len(successors)} successors generated\\n\")\n",
        "\n",
        "            for successor in successors:\n",
        "                if successor not in visited:\n",
        "                    heapq.heappush(fifo, (successor.cost, successor))\n",
        "\n",
        "            f.write(f\"\\tClosed: {list(map(lambda x: x.grid, visited))}\\n\")\n",
        "            f.write(f\"\\tFringe: {list(map(lambda x: f'< state = {x[1].grid}, action = {{{x[1].move}}}, g(n) = {x[1].cost}, d = {x[1].depth}, Parent = Pointer to {{{x[1].parent}}} >', fifo))}\\n\")\n",
        "\n",
        "    return None, popped, expanded, generated, max_fringe_size\n"
      ]
    },
    {
      "cell_type": "markdown",
      "source": [
        "Depth First Search"
      ],
      "metadata": {
        "id": "yR2HODI8SjVU"
      }
    },
    {
      "cell_type": "code",
      "execution_count": 5,
      "metadata": {
        "id": "9bufvZk2manp"
      },
      "outputs": [],
      "source": [
        "\n",
        "def dfs(start_state, goal_state, trace_file):\n",
        "    visited = set()\n",
        "    lifo = [start_state]\n",
        "    popped = 0\n",
        "    expanded = 0\n",
        "    generated = 0\n",
        "    fringe_size = 0\n",
        "\n",
        "    with open(trace_file, 'w') as f:\n",
        "        f.write(f\"Method Selected: DFS\\nRunning DFS\\n\")\n",
        "\n",
        "        while lifo:\n",
        "            max_fringe_size = max(fringe_size, len(lifo))\n",
        "            current_state = lifo.pop()\n",
        "            popped += 1\n",
        "            expanded += 1\n",
        "\n",
        "            if current_state.grid == goal_state.grid:\n",
        "                return current_state, popped, expanded,generated, max_fringe_size\n",
        "\n",
        "            visited.add(current_state)\n",
        "            successors = current_state.title_actions()\n",
        "            generated += len(successors)\n",
        "\n",
        "            f.write(f\"Generating successors to < state = {current_state.grid}, action = {{{current_state.move or 'Start'}}}, g(n) = {current_state.cost}, d = {current_state.depth}, Parent = Pointer to {{{current_state.parent}}} >:\\n\")\n",
        "            f.write(f\"\\t{len(successors)} successors generated\\n\")\n",
        "\n",
        "            for successor in successors:\n",
        "                if successor not in visited:\n",
        "                    lifo.append(successor)\n",
        "\n",
        "            f.write(f\"\\tClosed: {list(map(lambda x: x.grid, visited))}\\n\")\n",
        "            f.write(f\"\\tFringe: {list(map(lambda x: f'< state = {x.grid}, action = {{{x.move}}}, g(n) = {x.cost}, d = {x.depth}, Parent = Pointer to {{{x.parent}}} >', lifo))}\\n\")\n",
        "\n",
        "    return None, popped, expanded, generated, max_fringe_size\n"
      ]
    },
    {
      "cell_type": "markdown",
      "source": [
        "Depth Limit Search"
      ],
      "metadata": {
        "id": "05LjA1OiSmab"
      }
    },
    {
      "cell_type": "code",
      "execution_count": 6,
      "metadata": {
        "id": "RtJ-vwv7mayb"
      },
      "outputs": [],
      "source": [
        "def dls(start_state, goal_state, depth_limit, trace_file):\n",
        "    visited = set()\n",
        "    lifo = [(start_state, 0)]\n",
        "    popped = 0\n",
        "    expanded = 0\n",
        "    generated = 0\n",
        "    fringe_size = 0\n",
        "\n",
        "    with open(trace_file, 'w') as f:\n",
        "        f.write(f\"Method Selected: DLS\\nRunning DLS with depth limit {depth_limit}\\n\")\n",
        "\n",
        "        while lifo:\n",
        "            max_fringe_size = max(fringe_size, len(lifo))\n",
        "            current_state, current_depth = lifo.pop()\n",
        "            popped += 1\n",
        "            expanded += 1\n",
        "\n",
        "            if current_state.grid == goal_state.grid:\n",
        "                return current_state,popped, expanded, generated, max_fringe_size\n",
        "\n",
        "            if current_depth < depth_limit:\n",
        "                visited.add(current_state)\n",
        "                successors = current_state.title_actions()\n",
        "                generated += len(successors)\n",
        "\n",
        "                f.write(f\"Generating successors to < state = {current_state.grid}, action = {{{current_state.move or 'Start'}}}, g(n) = {current_state.cost}, d = {current_state.depth}, Parent = Pointer to {{{current_state.parent}}} >:\\n\")\n",
        "                f.write(f\"\\t{len(successors)} successors generated\\n\")\n",
        "\n",
        "                for successor in successors:\n",
        "                    if successor not in visited:\n",
        "                        lifo.append((successor, current_depth + 1))\n",
        "\n",
        "                f.write(f\"\\tClosed: {list(map(lambda x: x.grid, visited))}\\n\")\n",
        "                f.write(f\"\\tFringe: {list(map(lambda x: f'< state = {x[0].grid}, action = {{{x[0].move}}}, g(n) = {x[0].cost}, d = {x[0].depth}, Parent = Pointer to {{{x[0].parent}}} >', lifo))}\\n\")\n",
        "\n",
        "    return None, popped, expanded,generated, max_fringe_size\n"
      ]
    },
    {
      "cell_type": "markdown",
      "source": [
        "Iterative Deepening Search"
      ],
      "metadata": {
        "id": "FtotFeIvSrfe"
      }
    },
    {
      "cell_type": "code",
      "execution_count": 7,
      "metadata": {
        "id": "1EFeb2HGma1b"
      },
      "outputs": [],
      "source": [
        "def ids(start_state, goal_state, trace_file):\n",
        "    def level(state, depth, trace_file):\n",
        "        visited = set()\n",
        "        lifo = [(state, 0)]\n",
        "        popped = 0\n",
        "        expanded = 0\n",
        "        generated = 0\n",
        "        fringe_size = 0\n",
        "\n",
        "        with open(trace_file, 'a') as f:\n",
        "            f.write(f\"Running DFS with depth limit {depth}\\n\")\n",
        "\n",
        "            while lifo:\n",
        "                max_fringe_size = max(fringe_size, len(lifo))\n",
        "                current_state, current_depth = lifo.pop()\n",
        "                popped += 1\n",
        "                expanded += 1\n",
        "\n",
        "                if current_state.grid == goal_state.grid:\n",
        "                    return current_state, popped, expanded, generated, max_fringe_size\n",
        "\n",
        "                if current_depth < depth:\n",
        "                    visited.add(current_state)\n",
        "                    successors = current_state.title_actions()\n",
        "                    generated += len(successors)\n",
        "\n",
        "                    f.write(f\"Generating successors to < state = {current_state.grid}, action = {{{current_state.move or 'Start'}}}, g(n) = {current_state.cost}, d = {current_state.depth}, Parent = Pointer to {{{current_state.parent}}} >:\\n\")\n",
        "                    f.write(f\"\\t{len(successors)} successors generated\\n\")\n",
        "\n",
        "                    for successor in successors:\n",
        "                        if successor not in visited:\n",
        "                            lifo.append((successor, current_depth + 1))\n",
        "\n",
        "                    f.write(f\"\\tClosed: {list(map(lambda x: x.grid, visited))}\\n\")\n",
        "                    f.write(f\"\\tFringe: {list(map(lambda x: f'< state = {x[0].grid}, action = {{{x[0].move}}}, g(n) = {x[0].cost}, d = {x[0].depth}, Parent = Pointer to {{{x[0].parent}}} >', lifo))}\\n\")\n",
        "\n",
        "        return None, popped, expanded, generated, max_fringe_size\n",
        "\n",
        "    depth = 0\n",
        "    with open(trace_file, 'w') as f:\n",
        "        f.write(f\"Method Selected: IDS\\nRunning IDS\\n\")\n",
        "\n",
        "    while True:\n",
        "        result, popped, expanded, generated, max_fringe_size = level(start_state, depth, trace_file)\n",
        "        if result:\n",
        "            return result, popped, expanded, generated, max_fringe_size\n",
        "        depth += 1\n"
      ]
    },
    {
      "cell_type": "markdown",
      "source": [
        "Greedy Algorithm"
      ],
      "metadata": {
        "id": "NdEK0-IqSy_O"
      }
    },
    {
      "cell_type": "code",
      "execution_count": 8,
      "metadata": {
        "id": "mjBk_gbZma4q"
      },
      "outputs": [],
      "source": [
        "def greedy(start_state, goal_state, trace_file):\n",
        "    visited = set()\n",
        "    costAdded = []\n",
        "    start_state.heuristic_value = start_state.calculate_heuristic(goal_state)\n",
        "    heapq.heappush(costAdded, (start_state.heuristic_value, start_state))\n",
        "\n",
        "    popped = 0\n",
        "    expanded = 0\n",
        "    generated = 0\n",
        "    fringe_size = 0\n",
        "\n",
        "    with open(trace_file, 'w') as f:\n",
        "        f.write(f\"Method Selected: Greedy\\nRunning Greedy\\n\")\n",
        "\n",
        "        while costAdded:\n",
        "            max_fringe_size = max(fringe_size, len(costAdded))\n",
        "            _, current_state = heapq.heappop(costAdded)\n",
        "            popped += 1\n",
        "            expanded += 1\n",
        "\n",
        "            if current_state.grid == goal_state.grid:\n",
        "                return current_state, popped, expanded, generated, max_fringe_size\n",
        "\n",
        "            visited.add(current_state)\n",
        "            successors = current_state.title_actions()\n",
        "            generated += len(successors)\n",
        "\n",
        "            f.write(f\"Generating successors to < state = {current_state.grid}, action = {{{current_state.move or 'Start'}}}, g(n) = {current_state.cost}, d = {current_state.depth}, f(n) = {current_state.cost + current_state.heuristic_value}, Parent = Pointer to {{{current_state.parent}}} >:\\n\")\n",
        "            f.write(f\"\\t{len(successors)} successors generated\\n\")\n",
        "\n",
        "            for successor in successors:\n",
        "                if successor not in visited:\n",
        "                    successor.heuristic_value = successor.calculate_heuristic(goal_state)\n",
        "                    heapq.heappush(costAdded, (successor.heuristic_value, successor))\n",
        "\n",
        "            f.write(f\"\\tClosed: {list(map(lambda x: x.grid, visited))}\\n\")\n",
        "            f.write(f\"\\tFringe: {list(map(lambda x: f'< state = {x[1].grid}, action = {{{x[1].move}}}, g(n) = {x[1].cost}, d = {x[1].depth}, f(n) = {x[1].cost + x[1].heuristic_value}, Parent = Pointer to {{{x[1].parent}}} >', costAdded))}\\n\")\n",
        "\n",
        "    return None, popped, expanded, generated, max_fringe_size\n"
      ]
    },
    {
      "cell_type": "markdown",
      "source": [
        "A-Star"
      ],
      "metadata": {
        "id": "Rl8mmj5IS1XK"
      }
    },
    {
      "cell_type": "code",
      "execution_count": 9,
      "metadata": {
        "id": "3i769kNWma9j"
      },
      "outputs": [],
      "source": [
        "def a_star(start_state, goal_state, trace_file):\n",
        "    visited = set()\n",
        "    costAdded = []\n",
        "    start_state.heuristic_value = start_state.calculate_heuristic(goal_state)\n",
        "    heapq.heappush(costAdded, (start_state.cost + start_state.heuristic_value, start_state))\n",
        "\n",
        "    popped = 0\n",
        "    expanded = 0\n",
        "    generated = 0\n",
        "    fringe_size = 0\n",
        "\n",
        "    with open(trace_file, 'w') as f:\n",
        "        f.write(f\"Method Selected: A*\\nRunning A*\\n\")\n",
        "\n",
        "        while costAdded:\n",
        "            max_fringe_size = max(fringe_size, len(costAdded))\n",
        "            _, current_state = heapq.heappop(costAdded)\n",
        "            popped += 1\n",
        "            expanded += 1\n",
        "\n",
        "            if current_state.grid == goal_state.grid:\n",
        "                return current_state, popped, expanded,generated, max_fringe_size\n",
        "\n",
        "            visited.add(current_state)\n",
        "            successors = current_state.title_actions()\n",
        "            generated += len(successors)\n",
        "\n",
        "            f.write(f\"Generating successors to < state = {current_state.grid}, action = {{{current_state.move or 'Start'}}}, g(n) = {current_state.cost}, d = {current_state.depth}, f(n) = {current_state.cost + current_state.heuristic_value}, Parent = Pointer to {{{current_state.parent}}} >:\\n\")\n",
        "            f.write(f\"\\t{len(successors)} successors generated\\n\")\n",
        "\n",
        "            for successor in successors:\n",
        "                if successor not in visited:\n",
        "                    successor.heuristic_value = successor.calculate_heuristic(goal_state)\n",
        "                    heapq.heappush(costAdded, (successor.cost + successor.heuristic_value, successor))\n",
        "\n",
        "            f.write(f\"\\tClosed: {list(map(lambda x: x.grid, visited))}\\n\")\n",
        "            f.write(f\"\\tFringe: {list(map(lambda x: f'< state = {x[1].grid}, action = {{{x[1].move}}}, g(n) = {x[1].cost}, d = {x[1].depth}, f(n) = {x[1].cost + x[1].heuristic_value}, Parent = Pointer to {{{x[1].parent}}} >', costAdded))}\\n\")\n",
        "\n",
        "    return None, popped,expanded, generated, max_fringe_size\n"
      ]
    },
    {
      "cell_type": "markdown",
      "source": [
        "Output Block"
      ],
      "metadata": {
        "id": "sS-WGOm-S4Ab"
      }
    },
    {
      "cell_type": "code",
      "execution_count": 15,
      "metadata": {
        "id": "wgfbmPtlmbBC",
        "colab": {
          "base_uri": "https://localhost:8080/"
        },
        "outputId": "3211ac59-085e-4b8d-dfa5-51036b6dd38a"
      },
      "outputs": [
        {
          "output_type": "stream",
          "name": "stdout",
          "text": [
            "Enter the search method (bfs, ucs, dfs, dls, ids, greedy, a-star): dls\n",
            "Selected algorithm: dls\n",
            "Enter depth limit: 10\n",
            "Nodes Popped: 170\n",
            "Nodes Expanded: 8\n",
            "Nodes Generated: 170\n",
            "Max Fringe Size: 271\n",
            "Solution Found at depth 8 with cost of 49.\n",
            "Steps:\n",
            "\tMove 5 Left\n",
            "\tMove 6 Up\n",
            "\tMove 8 Right\n",
            "\tMove 5 Down\n",
            "\tMove 6 Left\n",
            "\tMove 8 Up\n",
            "\tMove 5 Right\n",
            "\tMove 6 Down\n"
          ]
        }
      ],
      "source": [
        "def display_result(goal_state, nodes_popped, nodes_generated, max_fringe_size, nodes_expanded=None):\n",
        "    solution_steps = []\n",
        "    current_state = goal_state\n",
        "\n",
        "    while current_state.parent:\n",
        "        move = current_state.grid[current_state.parent.title_move_place()[0]][current_state.parent.title_move_place()[1]]\n",
        "        solution_steps.append(f\"Move {move} {current_state.move}\")\n",
        "        current_state = current_state.parent\n",
        "\n",
        "    solution_steps.reverse()\n",
        "\n",
        "    print(f\"Nodes Popped: {nodes_popped}\")\n",
        "    if nodes_expanded is not None:\n",
        "        print(f\"Nodes Expanded: {nodes_expanded}\")\n",
        "    print(f\"Nodes Generated: {nodes_generated}\")\n",
        "    print(f\"Max Fringe Size: {max_fringe_size}\")\n",
        "    print(f\"Solution Found at depth {goal_state.depth} with cost of {goal_state.cost}.\")\n",
        "    print(\"Steps:\")\n",
        "    for step in solution_steps:\n",
        "        print(f\"\\t{step}\")\n",
        "\n",
        "def main():\n",
        "    start_file = 'start.txt'\n",
        "    goal_file = 'goal.txt'\n",
        "    method = input(\"Enter the search method (bfs, ucs, dfs, dls, ids, greedy, a-star): \").strip()\n",
        "    trace_file = f'trace_{method}_{datetime.datetime.now().strftime(\"%Y%m%d-%H%M%S\")}.txt'\n",
        "    start_state = AlgorithmRequirments(matrix(start_file))\n",
        "    goal_state = AlgorithmRequirments(matrix(goal_file))\n",
        "    if not method:\n",
        "       method = \"a-star\"\n",
        "\n",
        "    print(f\"Selected algorithm: {method}\")\n",
        "    if method == \"bfs\":\n",
        "        result, nodes_popped, nodes_expanded, nodes_generated, max_fringe_size = bfs(start_state, goal_state, trace_file)\n",
        "    elif method == \"ucs\":\n",
        "        result, nodes_popped, nodes_expanded, nodes_generated, max_fringe_size = ucs(start_state, goal_state, trace_file)\n",
        "    elif method == \"dfs\":\n",
        "        result, nodes_popped, nodes_expanded, nodes_generated, max_fringe_size = dfs(start_state, goal_state, trace_file)\n",
        "    elif method == \"dls\":\n",
        "        depth_limit = int(input(\"Enter depth limit: \"))\n",
        "        result, nodes_popped, nodes_expanded, nodes_generated, max_fringe_size = dls(start_state, goal_state, depth_limit, trace_file)\n",
        "    elif method == \"ids\":\n",
        "        result, nodes_popped, nodes_expanded, nodes_generated, max_fringe_size = ids(start_state, goal_state, trace_file)\n",
        "    elif method == \"greedy\":\n",
        "        result, nodes_popped, nodes_expanded, nodes_generated, max_fringe_size = greedy(start_state, goal_state, trace_file)\n",
        "    else:\n",
        "        result, nodes_popped, nodes_expanded, nodes_generated, max_fringe_size = a_star(start_state, goal_state, trace_file)\n",
        "\n",
        "    if result:\n",
        "        display_result(result, nodes_popped, nodes_expanded, nodes_generated, max_fringe_size)\n",
        "    else:\n",
        "        print(\"No solution found.\")\n",
        "\n",
        "if __name__ == \"__main__\":\n",
        "    main()\n",
        "\n"
      ]
    }
  ],
  "metadata": {
    "colab": {
      "provenance": []
    },
    "kernelspec": {
      "display_name": "Python 3",
      "name": "python3"
    },
    "language_info": {
      "name": "python"
    }
  },
  "nbformat": 4,
  "nbformat_minor": 0
}